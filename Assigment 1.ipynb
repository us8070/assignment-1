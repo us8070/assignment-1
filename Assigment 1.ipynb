{
 "cells": [
  {
   "cell_type": "code",
   "execution_count": 1,
   "id": "ec57d60f-c0d4-4b87-a919-79910c68bc00",
   "metadata": {},
   "outputs": [],
   "source": [
    "#Q1. Create one variable containing following type of data:\n",
    "##(i) string\n",
    "##(ii) list\n",
    "##(iii) float\n",
    "##(iv) tuple"
   ]
  },
  {
   "cell_type": "code",
   "execution_count": 2,
   "id": "2391b627-9f97-492e-b0bb-48f821eef86a",
   "metadata": {},
   "outputs": [],
   "source": [
    "var_string = \"Ujjwal\"\n",
    "\n",
    "var_list = ['Ujjwal', 6, 2+4j, 20.0, [1,2,3]]\n",
    "\n",
    "var_float = 2.7878\n",
    "\n",
    "var_tuple = ('Ujjwal', 6, 2+4j, 20.0, [1,2,3])"
   ]
  },
  {
   "cell_type": "code",
   "execution_count": 3,
   "id": "79b806d1-76da-4e68-9f85-2eae268a2ca8",
   "metadata": {},
   "outputs": [],
   "source": [
    "###Q2. Given are some following variables containing data:\n",
    "###(i) var1 = ‘ ‘\n",
    "###(ii) var2 = ‘[ DS , ML , Python]’\n",
    "###(iii) var3 = [ ‘DS’ , ’ML’ , ‘Python’ ]\n",
    "###(iv) var4 = 1."
   ]
  },
  {
   "cell_type": "code",
   "execution_count": 4,
   "id": "69163977-0e38-4bee-96ab-643330250fc5",
   "metadata": {},
   "outputs": [
    {
     "data": {
      "text/plain": [
       "str"
      ]
     },
     "execution_count": 4,
     "metadata": {},
     "output_type": "execute_result"
    }
   ],
   "source": [
    "#(i)\n",
    "var1 = ''\n",
    "type(var1)"
   ]
  },
  {
   "cell_type": "code",
   "execution_count": 5,
   "id": "54d0ec47-86df-4930-a65d-a89e26610b1b",
   "metadata": {},
   "outputs": [
    {
     "data": {
      "text/plain": [
       "str"
      ]
     },
     "execution_count": 5,
     "metadata": {},
     "output_type": "execute_result"
    }
   ],
   "source": [
    "#(ii)\n",
    "var2 = '[ DS , ML , Python]'\n",
    "type(var2)"
   ]
  },
  {
   "cell_type": "code",
   "execution_count": 7,
   "id": "41401a33-2d00-4b96-a113-4f1a8a646412",
   "metadata": {},
   "outputs": [
    {
     "data": {
      "text/plain": [
       "list"
      ]
     },
     "execution_count": 7,
     "metadata": {},
     "output_type": "execute_result"
    }
   ],
   "source": [
    "#(iii)\n",
    "var3 = [ 'DS' , 'ML', 'Python' ]\n",
    "type(var3)"
   ]
  },
  {
   "cell_type": "code",
   "execution_count": 8,
   "id": "f6f63aef-4d9f-4b05-a623-5e003ca76bb2",
   "metadata": {},
   "outputs": [
    {
     "data": {
      "text/plain": [
       "float"
      ]
     },
     "execution_count": 8,
     "metadata": {},
     "output_type": "execute_result"
    }
   ],
   "source": [
    "#(iv)\n",
    "var4 = 1.\n",
    "type(var4)"
   ]
  },
  {
   "cell_type": "code",
   "execution_count": 9,
   "id": "bc71f202-52ff-4184-bdf0-5bcbd5b753c3",
   "metadata": {},
   "outputs": [],
   "source": [
    "###Q3. Explain the use of the following operators using an example:\n",
    "###(i) /\n",
    "###(ii) %\n",
    "###(iii) //\n",
    "###(iv) **"
   ]
  },
  {
   "cell_type": "code",
   "execution_count": 10,
   "id": "9eb076bc-874b-4744-b0ac-050dbf982d8f",
   "metadata": {},
   "outputs": [
    {
     "data": {
      "text/plain": [
       "3.3333333333333335"
      ]
     },
     "execution_count": 10,
     "metadata": {},
     "output_type": "execute_result"
    }
   ],
   "source": [
    "#(i) / : It is used to divide the number and gives the values.\n",
    "div = 10/3\n",
    "div"
   ]
  },
  {
   "cell_type": "code",
   "execution_count": 11,
   "id": "8ecee3fc-4b41-4f90-b06e-c2e2d903f941",
   "metadata": {},
   "outputs": [
    {
     "data": {
      "text/plain": [
       "1"
      ]
     },
     "execution_count": 11,
     "metadata": {},
     "output_type": "execute_result"
    }
   ],
   "source": [
    "#(ii) % : It gives you the reminder value of the 2 numbers.\n",
    "reminder = 10%3\n",
    "reminder"
   ]
  },
  {
   "cell_type": "code",
   "execution_count": 12,
   "id": "9c5f2802-faa2-44cf-9215-9ff5df4eb625",
   "metadata": {},
   "outputs": [
    {
     "data": {
      "text/plain": [
       "3"
      ]
     },
     "execution_count": 12,
     "metadata": {},
     "output_type": "execute_result"
    }
   ],
   "source": [
    "#(i) // : It gives you the flour value of the 2 numbers. It like the integer part of the divisble value\n",
    "10//3"
   ]
  },
  {
   "cell_type": "code",
   "execution_count": 13,
   "id": "050ed37e-23e1-4027-a00c-09511d5af1f1",
   "metadata": {},
   "outputs": [
    {
     "data": {
      "text/plain": [
       "8"
      ]
     },
     "execution_count": 13,
     "metadata": {},
     "output_type": "execute_result"
    }
   ],
   "source": [
    "#(iv) ** : it is used for exponential or gives power or Second place number denotes the power of First place number\n",
    "\n",
    "2 ** 3\n"
   ]
  },
  {
   "cell_type": "code",
   "execution_count": 14,
   "id": "6014b59e-e72c-49b2-9a71-c7542e7125af",
   "metadata": {},
   "outputs": [],
   "source": [
    "###Q4. Create a list of length 10 of your choice containing multiple types of data. Using for loop print the\n",
    "###element and its data type."
   ]
  },
  {
   "cell_type": "code",
   "execution_count": 15,
   "id": "9051e8c9-3319-43aa-b86d-26b8d07ef983",
   "metadata": {},
   "outputs": [
    {
     "name": "stdout",
     "output_type": "stream",
     "text": [
      "Element \"Ujjwal\" type is <class 'str'>\n",
      "Element \"3\" type is <class 'int'>\n",
      "Element \"20.0\" type is <class 'float'>\n",
      "Element \"(2+4j)\" type is <class 'complex'>\n",
      "Element \"[1, 2, 3]\" type is <class 'list'>\n",
      "Element \"True\" type is <class 'bool'>\n",
      "Element \"20\" type is <class 'int'>\n",
      "Element \"3.33334\" type is <class 'float'>\n",
      "Element \"4\" type is <class 'int'>\n",
      "Element \"0b1010\" type is <class 'str'>\n"
     ]
    }
   ],
   "source": [
    "lst = ['Ujjwal', 3, 20.0, 2+4j, [1,2,3], True, 20, 3.33334, 0b100, bin(10)]\n",
    "\n",
    "for i in lst:\n",
    "    print (f'Element \"{i}\" type is {type(i)}')"
   ]
  },
  {
   "cell_type": "code",
   "execution_count": 16,
   "id": "dbda0449-9754-4c50-9a24-c1d258f51afd",
   "metadata": {},
   "outputs": [],
   "source": [
    "###Q5. Using a while loop, verify if the number A is purely divisible by number B and if so then how many\n",
    "###times it can be divisible."
   ]
  },
  {
   "cell_type": "code",
   "execution_count": 17,
   "id": "e5257c32-80c7-4b39-81fa-38778d533ca6",
   "metadata": {},
   "outputs": [
    {
     "name": "stdin",
     "output_type": "stream",
     "text": [
      "Enter number A:  1020\n",
      "Enter number B:  2\n"
     ]
    },
    {
     "name": "stdout",
     "output_type": "stream",
     "text": [
      "1020 is purely divisible by 2 in 2 number of times\n"
     ]
    }
   ],
   "source": [
    "A = int(input(\"Enter number A: \"))\n",
    "temp_A = A\n",
    "\n",
    "B = int(input(\"Enter number B: \"))\n",
    "\n",
    "count= 0\n",
    "while temp_A%B==0:\n",
    "    count+=1\n",
    "    temp_A = temp_A/B\n",
    "    \n",
    "if count > 0:\n",
    "    print(f'{A} is purely divisible by {B} in {count} number of times')\n",
    "else:\n",
    "    print(f'{A} is not divisible by {B}')"
   ]
  },
  {
   "cell_type": "code",
   "execution_count": 18,
   "id": "09c948a2-7dbf-4808-b9b9-376cd9e239ec",
   "metadata": {},
   "outputs": [],
   "source": [
    "###Q6. Create a list containing 25 int type data. Using for loop and if-else condition print if the element is\n",
    "###divisible by 3 or not."
   ]
  },
  {
   "cell_type": "code",
   "execution_count": 19,
   "id": "84efc2d6-b5d6-4330-8369-7219b06bf494",
   "metadata": {},
   "outputs": [
    {
     "name": "stdout",
     "output_type": "stream",
     "text": [
      "0 is divisible by 3\n",
      "1 is not divisible by 3\n",
      "2 is not divisible by 3\n",
      "3 is divisible by 3\n",
      "4 is not divisible by 3\n",
      "5 is not divisible by 3\n",
      "6 is divisible by 3\n",
      "7 is not divisible by 3\n",
      "8 is not divisible by 3\n",
      "9 is divisible by 3\n",
      "10 is not divisible by 3\n",
      "11 is not divisible by 3\n",
      "12 is divisible by 3\n",
      "13 is not divisible by 3\n",
      "14 is not divisible by 3\n",
      "15 is divisible by 3\n",
      "16 is not divisible by 3\n",
      "17 is not divisible by 3\n",
      "18 is divisible by 3\n",
      "19 is not divisible by 3\n",
      "20 is not divisible by 3\n",
      "21 is divisible by 3\n",
      "22 is not divisible by 3\n",
      "23 is not divisible by 3\n",
      "24 is divisible by 3\n"
     ]
    }
   ],
   "source": [
    "lst = range(25)\n",
    "\n",
    "for i in lst:\n",
    "    if i%3 == 0:\n",
    "        print(f'{i} is divisible by 3')\n",
    "    else:\n",
    "        print(f'{i} is not divisible by 3')"
   ]
  },
  {
   "cell_type": "code",
   "execution_count": 20,
   "id": "db11f76a-8192-44f1-803f-1dfa1bef2e74",
   "metadata": {},
   "outputs": [],
   "source": [
    "###Q7. What do you understand about mutable and immutable data types? Give examples for both showing\n",
    "###this property."
   ]
  },
  {
   "cell_type": "code",
   "execution_count": 23,
   "id": "0eafcc53-b9c0-481e-802d-7b0ff0261104",
   "metadata": {},
   "outputs": [
    {
     "data": {
      "text/plain": [
       "['hello', 26.99, (2+4j), [1, 2, 3], 'Append']"
      ]
     },
     "execution_count": 23,
     "metadata": {},
     "output_type": "execute_result"
    }
   ],
   "source": [
    "### Ans:- Mutable data type like a list in which we remove, update, append or replace the index element on the bases of its index value.\n",
    "lst = ['Ujjwal', 61, 26.99, 2+4j, [1,2,3]]\n",
    "\n",
    "lst[0] = 'hello'\n",
    "lst.append(\"Append\")\n",
    "lst.remove(61)\n",
    "\n",
    "lst"
   ]
  },
  {
   "cell_type": "code",
   "execution_count": 25,
   "id": "d81a463f-23d2-4a56-b6cf-100d07deb0b8",
   "metadata": {},
   "outputs": [
    {
     "ename": "TypeError",
     "evalue": "'str' object does not support item assignment",
     "output_type": "error",
     "traceback": [
      "\u001b[0;31m---------------------------------------------------------------------------\u001b[0m",
      "\u001b[0;31mTypeError\u001b[0m                                 Traceback (most recent call last)",
      "Cell \u001b[0;32mIn[25], line 4\u001b[0m\n\u001b[1;32m      1\u001b[0m \u001b[38;5;66;03m### Ans:- Immutable data type like string in which we can not remove, update, append or replace the index element on the bases of its index value.\u001b[39;00m\n\u001b[1;32m      2\u001b[0m string \u001b[38;5;241m=\u001b[39m \u001b[38;5;124m\"\u001b[39m\u001b[38;5;124mUjjwal\u001b[39m\u001b[38;5;124m\"\u001b[39m\n\u001b[0;32m----> 4\u001b[0m \u001b[43mstring\u001b[49m\u001b[43m[\u001b[49m\u001b[38;5;241;43m0\u001b[39;49m\u001b[43m]\u001b[49m \u001b[38;5;241m=\u001b[39m \u001b[38;5;124m'\u001b[39m\u001b[38;5;124mY\u001b[39m\u001b[38;5;124m'\u001b[39m\n\u001b[1;32m      6\u001b[0m string\n",
      "\u001b[0;31mTypeError\u001b[0m: 'str' object does not support item assignment"
     ]
    }
   ],
   "source": [
    "### Ans:- Immutable data type like string in which we can not remove, update, append or replace the index element on the bases of its index value.\n",
    "string = \"Ujjwal\"\n",
    "\n",
    "string[0] = 'Y'\n",
    "\n",
    "string"
   ]
  },
  {
   "cell_type": "code",
   "execution_count": null,
   "id": "5b373097-968a-449c-af85-fdef3a122429",
   "metadata": {},
   "outputs": [],
   "source": []
  }
 ],
 "metadata": {
  "kernelspec": {
   "display_name": "Python 3 (ipykernel)",
   "language": "python",
   "name": "python3"
  },
  "language_info": {
   "codemirror_mode": {
    "name": "ipython",
    "version": 3
   },
   "file_extension": ".py",
   "mimetype": "text/x-python",
   "name": "python",
   "nbconvert_exporter": "python",
   "pygments_lexer": "ipython3",
   "version": "3.10.8"
  }
 },
 "nbformat": 4,
 "nbformat_minor": 5
}
